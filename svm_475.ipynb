{
 "cells": [
  {
   "cell_type": "code",
   "execution_count": null,
   "metadata": {
    "collapsed": true,
    "scrolled": true
   },
   "outputs": [],
   "source": [
    "# Import all the stuff we need\n",
    "import pandas as pd\n",
    "import numpy as np\n",
    "import sklearn\n",
    "import sklearn.svm"
   ]
  },
  {
   "cell_type": "code",
   "execution_count": 12,
   "metadata": {
    "collapsed": true
   },
   "outputs": [],
   "source": [
    "# Define a few constants:\n",
    "\n",
    "# Threshold for determining outbreak\n",
    "thrs = 10\n"
   ]
  },
  {
   "cell_type": "code",
   "execution_count": null,
   "metadata": {
    "collapsed": true
   },
   "outputs": [],
   "source": [
    "# Function to help with visualization\n",
    "def show_more_cols_head(data, num_cols=100):\n",
    "    # Store the previous number of columns\n",
    "    prev_maxcols = pd.options.display.max_columns\n",
    "    # Set the number of columns to the max temporarily\n",
    "    pd.options.display.max_columns = num_cols\n",
    "    # Show the stuff\n",
    "    print data.head()\n",
    "    # Change it back to the previous value\n",
    "    pd.options.display.max_columns = prev_maxcols\n",
    "    # Done\n",
    "    return"
   ]
  },
  {
   "cell_type": "code",
   "execution_count": null,
   "metadata": {
    "collapsed": true
   },
   "outputs": [],
   "source": [
    "# Create data frames from CSVs\n",
    "student_df = pd.read_csv(\"../Project/california-kindergarten-immunization-rates/StudentData.csv\")\n",
    "pertusis_df = pd.read_csv(\"../Project/california-kindergarten-immunization-rates/pertusisRates2010_2015.csv\")\n",
    "infant_df = pd.read_csv(\"../Project/california-kindergarten-immunization-rates/InfantData.csv\")\n",
    "geo_df = pd.read_csv(\"../Project/california-kindergarten-immunization-rates/geoData.csv\")"
   ]
  },
  {
   "cell_type": "code",
   "execution_count": 6,
   "metadata": {
    "collapsed": true
   },
   "outputs": [],
   "source": [
    "# Get collection of the counties and years\n",
    "counties =  student_df.COUNTY.unique()\n",
    "years = student_df.year.unique()"
   ]
  },
  {
   "cell_type": "code",
   "execution_count": 7,
   "metadata": {},
   "outputs": [],
   "source": [
    "# Get the differences between years and the sign of the amount (so we can see if it was trending positive or negative)\n",
    "pertusis_df['2011_diff'] = pertusis_df['Rate2011'] - pertusis_df['Rate2010']\n",
    "pertusis_df['2011_sgn'] = np.sign(pertusis_df['2011_diff'] - thrs)\n",
    "pertusis_df['2012_diff'] = pertusis_df['Rate2012'] - pertusis_df['Rate2011']\n",
    "pertusis_df['2012_sgn'] = np.sign(pertusis_df['2012_diff'] - thrs)\n",
    "pertusis_df['2013_diff'] = pertusis_df['Rate2013'] - pertusis_df['Rate2012']\n",
    "pertusis_df['2013_sgn'] = np.sign(pertusis_df['2013_diff'] - thrs)\n",
    "pertusis_df['2014_diff'] = pertusis_df['Rate2014'] - pertusis_df['Rate2013']\n",
    "pertusis_df['2014_sgn'] = np.sign(pertusis_df['2014_diff'] - thrs)\n"
   ]
  },
  {
   "cell_type": "code",
   "execution_count": 24,
   "metadata": {},
   "outputs": [
    {
     "ename": "ValueError",
     "evalue": "labels ['CALIFORNIA'] not contained in axis",
     "traceback": [
      "\u001b[0;31m---------------------------------------------------------------------------\u001b[0m",
      "\u001b[0;31mValueError\u001b[0m                                Traceback (most recent call last)",
      "\u001b[0;32m<ipython-input-24-60295d4749b0>\u001b[0m in \u001b[0;36m<module>\u001b[0;34m()\u001b[0m\n\u001b[1;32m      4\u001b[0m \u001b[0mconcat\u001b[0m \u001b[0;34m=\u001b[0m \u001b[0mconcat\u001b[0m\u001b[0;34m.\u001b[0m\u001b[0mdrop\u001b[0m\u001b[0;34m(\u001b[0m\u001b[0;34m[\u001b[0m\u001b[0;34m'COUNTY'\u001b[0m\u001b[0;34m]\u001b[0m\u001b[0;34m,\u001b[0m \u001b[0maxis\u001b[0m\u001b[0;34m=\u001b[0m\u001b[0;36m1\u001b[0m\u001b[0;34m)\u001b[0m\u001b[0;34m\u001b[0m\u001b[0m\n\u001b[1;32m      5\u001b[0m \u001b[0;31m# Also drop California, as it is not a county\u001b[0m\u001b[0;34m\u001b[0m\u001b[0;34m\u001b[0m\u001b[0m\n\u001b[0;32m----> 6\u001b[0;31m \u001b[0mconcat\u001b[0m \u001b[0;34m=\u001b[0m \u001b[0mconcat\u001b[0m\u001b[0;34m.\u001b[0m\u001b[0mdrop\u001b[0m\u001b[0;34m(\u001b[0m\u001b[0;34m'CALIFORNIA'\u001b[0m\u001b[0;34m)\u001b[0m\u001b[0;34m\u001b[0m\u001b[0m\n\u001b[0m",
      "\u001b[0;32m/Users/paulmayer/anaconda/lib/python2.7/site-packages/pandas/core/generic.pyc\u001b[0m in \u001b[0;36mdrop\u001b[0;34m(self, labels, axis, level, inplace, errors)\u001b[0m\n\u001b[1;32m   2048\u001b[0m                 \u001b[0mnew_axis\u001b[0m \u001b[0;34m=\u001b[0m \u001b[0maxis\u001b[0m\u001b[0;34m.\u001b[0m\u001b[0mdrop\u001b[0m\u001b[0;34m(\u001b[0m\u001b[0mlabels\u001b[0m\u001b[0;34m,\u001b[0m \u001b[0mlevel\u001b[0m\u001b[0;34m=\u001b[0m\u001b[0mlevel\u001b[0m\u001b[0;34m,\u001b[0m \u001b[0merrors\u001b[0m\u001b[0;34m=\u001b[0m\u001b[0merrors\u001b[0m\u001b[0;34m)\u001b[0m\u001b[0;34m\u001b[0m\u001b[0m\n\u001b[1;32m   2049\u001b[0m             \u001b[0;32melse\u001b[0m\u001b[0;34m:\u001b[0m\u001b[0;34m\u001b[0m\u001b[0m\n\u001b[0;32m-> 2050\u001b[0;31m                 \u001b[0mnew_axis\u001b[0m \u001b[0;34m=\u001b[0m \u001b[0maxis\u001b[0m\u001b[0;34m.\u001b[0m\u001b[0mdrop\u001b[0m\u001b[0;34m(\u001b[0m\u001b[0mlabels\u001b[0m\u001b[0;34m,\u001b[0m \u001b[0merrors\u001b[0m\u001b[0;34m=\u001b[0m\u001b[0merrors\u001b[0m\u001b[0;34m)\u001b[0m\u001b[0;34m\u001b[0m\u001b[0m\n\u001b[0m\u001b[1;32m   2051\u001b[0m             \u001b[0mdropped\u001b[0m \u001b[0;34m=\u001b[0m \u001b[0mself\u001b[0m\u001b[0;34m.\u001b[0m\u001b[0mreindex\u001b[0m\u001b[0;34m(\u001b[0m\u001b[0;34m**\u001b[0m\u001b[0;34m{\u001b[0m\u001b[0maxis_name\u001b[0m\u001b[0;34m:\u001b[0m \u001b[0mnew_axis\u001b[0m\u001b[0;34m}\u001b[0m\u001b[0;34m)\u001b[0m\u001b[0;34m\u001b[0m\u001b[0m\n\u001b[1;32m   2052\u001b[0m             \u001b[0;32mtry\u001b[0m\u001b[0;34m:\u001b[0m\u001b[0;34m\u001b[0m\u001b[0m\n",
      "\u001b[0;32m/Users/paulmayer/anaconda/lib/python2.7/site-packages/pandas/core/indexes/base.pyc\u001b[0m in \u001b[0;36mdrop\u001b[0;34m(self, labels, errors)\u001b[0m\n\u001b[1;32m   3573\u001b[0m             \u001b[0;32mif\u001b[0m \u001b[0merrors\u001b[0m \u001b[0;34m!=\u001b[0m \u001b[0;34m'ignore'\u001b[0m\u001b[0;34m:\u001b[0m\u001b[0;34m\u001b[0m\u001b[0m\n\u001b[1;32m   3574\u001b[0m                 raise ValueError('labels %s not contained in axis' %\n\u001b[0;32m-> 3575\u001b[0;31m                                  labels[mask])\n\u001b[0m\u001b[1;32m   3576\u001b[0m             \u001b[0mindexer\u001b[0m \u001b[0;34m=\u001b[0m \u001b[0mindexer\u001b[0m\u001b[0;34m[\u001b[0m\u001b[0;34m~\u001b[0m\u001b[0mmask\u001b[0m\u001b[0;34m]\u001b[0m\u001b[0;34m\u001b[0m\u001b[0m\n\u001b[1;32m   3577\u001b[0m         \u001b[0;32mreturn\u001b[0m \u001b[0mself\u001b[0m\u001b[0;34m.\u001b[0m\u001b[0mdelete\u001b[0m\u001b[0;34m(\u001b[0m\u001b[0mindexer\u001b[0m\u001b[0;34m)\u001b[0m\u001b[0;34m\u001b[0m\u001b[0m\n",
      "\u001b[0;31mValueError\u001b[0m: labels ['CALIFORNIA'] not contained in axis"
     ],
     "output_type": "error"
    }
   ],
   "source": [
    "# Combine infant and pertusis data\n",
    "concat = pd.merge(pertusis_df, infant_df, left_on='county', right_on='COUNTY')\n",
    "# Delete new county data so we only have one\n",
    "concat = concat.drop(['COUNTY'], axis=1)\n",
    "# Also drop California, as it is not a county\n",
    "concat = concat.drop('CALIFORNIA')"
   ]
  },
  {
   "cell_type": "code",
   "execution_count": null,
   "metadata": {},
   "outputs": [],
   "source": [
    "# Display part of the data to see what's up\n",
    "show_more_cols_head(concat)"
   ]
  },
  {
   "cell_type": "code",
   "execution_count": 23,
   "metadata": {
    "scrolled": true
   },
   "outputs": [
    {
     "name": "stdout",
     "output_type": "stream",
     "text": [
      "[[  7.  19.]\n",
      " [  5.  27.]]\n",
      "0.586206896552\n"
     ]
    }
   ],
   "source": [
    "# Gather X and Y data\n",
    "# For now, X holds the difference in rates from 2011-2012 and 2012-2013\n",
    "# We need to grab the stuff as a matrix\n",
    "X = concat[['Cases2012', 'Rate2012', 'Cases2013', 'Rate2013']].as_matrix()\n",
    "# Y is predicting whether there was an outbreak in the number of pertussis cases\n",
    "y = concat['2014_sgn'].as_matrix()[np.newaxis].T\n",
    "\n",
    "# printX\n",
    "\n",
    "# Create SVM model\n",
    "svm_model = sklearn.svm.SVC(kernel='rbf')\n",
    "\n",
    "# Choose number of folds for kfolds:\n",
    "n_fld = 5\n",
    "kf = sklearn.model_selection.KFold(n_fld)\n",
    "sklearn.model_selection.KFold(n_fld, random_state=None, shuffle=False)\n",
    "\n",
    "\n",
    "cf = np.zeros([2, 2])\n",
    "# # Confusion matrix stuff\n",
    "for train_index, test_index in kf.split(X):\n",
    "    # For each fold, split  X and y into training and testing sets\n",
    "    X_train, X_test = X[train_index], X[test_index]\n",
    "    y_train, y_test = y[train_index], y[test_index]\n",
    "    # Try fitting the SVM model on the data\n",
    "    svm_model.fit(X_train, y_train)\n",
    "    # Predict using the test data, and compare to the actual values\n",
    "    y_pred = svm_model.predict(X_test)\n",
    "    cf = cf + sklearn.metrics.confusion_matrix(y_test, y_pred)\n",
    "\n",
    "\n",
    "print cf\n",
    "\n",
    "# Compute accuracy\n",
    "acc = cf.trace()/cf.sum()\n",
    "print acc"
   ]
  },
  {
   "cell_type": "code",
   "execution_count": null,
   "metadata": {},
   "outputs": [],
   "source": []
  },
  {
   "cell_type": "code",
   "execution_count": null,
   "metadata": {
    "collapsed": true
   },
   "outputs": [],
   "source": []
  },
  {
   "cell_type": "code",
   "execution_count": null,
   "metadata": {
    "collapsed": true
   },
   "outputs": [],
   "source": []
  }
 ],
 "metadata": {
  "kernelspec": {
   "display_name": "Python 2",
   "language": "python",
   "name": "python2"
  },
  "language_info": {
   "codemirror_mode": {
    "name": "ipython",
    "version": 2
   },
   "file_extension": ".py",
   "mimetype": "text/x-python",
   "name": "python",
   "nbconvert_exporter": "python",
   "pygments_lexer": "ipython2",
   "version": "2.7.13"
  }
 },
 "nbformat": 4,
 "nbformat_minor": 2
}
