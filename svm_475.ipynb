{
 "cells": [
  {
   "cell_type": "code",
   "execution_count": 100,
   "metadata": {
    "collapsed": true,
    "scrolled": true
   },
   "outputs": [],
   "source": [
    "# Import all the stuff we need\n",
    "import pandas as pd\n",
    "import numpy as np\n",
    "import sklearn\n",
    "import sklearn.svm"
   ]
  },
  {
   "cell_type": "code",
   "execution_count": 101,
   "metadata": {
    "collapsed": true
   },
   "outputs": [],
   "source": [
    "# Define a few constants:\n",
    "\n",
    "# Threshold for determining outbreak\n",
    "thrs = 3"
   ]
  },
  {
   "cell_type": "code",
   "execution_count": 102,
   "metadata": {
    "collapsed": true
   },
   "outputs": [],
   "source": [
    "# Function to help with visualization\n",
    "def show_more_cols_head(data, num_cols=100):\n",
    "    # Store the previous number of columns\n",
    "    prev_maxcols = pd.options.display.max_columns\n",
    "    # Set the number of columns to the max temporarily\n",
    "    pd.options.display.max_columns = num_cols\n",
    "    # Show the stuff\n",
    "    print data.head()\n",
    "    # Change it back to the previous value\n",
    "    pd.options.display.max_columns = prev_maxcols\n",
    "    # Done\n",
    "    return"
   ]
  },
  {
   "cell_type": "code",
   "execution_count": 103,
   "metadata": {
    "collapsed": true
   },
   "outputs": [],
   "source": [
    "# Create data frames from CSVs\n",
    "student_df = pd.read_csv(\"../Project/california-kindergarten-immunization-rates/StudentData.csv\")\n",
    "pertusis_df = pd.read_csv(\"../Project/california-kindergarten-immunization-rates/pertusisRates2010_2015.csv\")\n",
    "infant_df = pd.read_csv(\"../Project/california-kindergarten-immunization-rates/InfantData.csv\")\n",
    "geo_df = pd.read_csv(\"../Project/california-kindergarten-immunization-rates/geoData.csv\")"
   ]
  },
  {
   "cell_type": "code",
   "execution_count": 104,
   "metadata": {
    "collapsed": true
   },
   "outputs": [],
   "source": [
    "# Get collection of the counties and years\n",
    "counties =  student_df.COUNTY.unique()\n",
    "years = student_df.year.unique()"
   ]
  },
  {
   "cell_type": "code",
   "execution_count": 105,
   "metadata": {},
   "outputs": [],
   "source": [
    "# Get the differences between years and the sign of the amount (so we can see if it was trending positive or negative)\n",
    "pertusis_df['2011_diff'] = pertusis_df['Rate2011'] - pertusis_df['Rate2010']\n",
    "pertusis_df['2011_sgn'] = np.sign(pertusis_df['2011_diff'] - thrs)\n",
    "pertusis_df['2012_diff'] = pertusis_df['Rate2012'] - pertusis_df['Rate2011']\n",
    "pertusis_df['2012_sgn'] = np.sign(pertusis_df['2012_diff'] - thrs)\n",
    "pertusis_df['2013_diff'] = pertusis_df['Rate2013'] - pertusis_df['Rate2012']\n",
    "pertusis_df['2013_sgn'] = np.sign(pertusis_df['2013_diff'] - thrs)\n",
    "pertusis_df['2014_diff'] = pertusis_df['Rate2014'] - pertusis_df['Rate2013']\n",
    "pertusis_df['2014_sgn'] = np.sign(pertusis_df['2014_diff'] - thrs)\n"
   ]
  },
  {
   "cell_type": "code",
   "execution_count": 106,
   "metadata": {},
   "outputs": [],
   "source": [
    "# Combine infant and pertusis data\n",
    "concat = pd.merge(pertusis_df, infant_df, left_on='county', right_on='COUNTY')\n",
    "# Delete new county data so we only have one\n",
    "concat = concat.drop(['COUNTY'], axis=1)\n",
    "# Also drop California, as it is not a county\n",
    "concat = concat[concat.county != ('CALIFORNIA')]"
   ]
  },
  {
   "cell_type": "code",
   "execution_count": 107,
   "metadata": {},
   "outputs": [
    {
     "name": "stdout",
     "output_type": "stream",
     "text": [
      "      county  Cases2010  Rate2010  Cases2011  Rate2011  Cases2012  Rate2012  \\\n0    ALAMEDA        423     30.21        206     14.59         62      4.35   \n1     ALPINE          0      0.00          0      0.00          0      0.00   \n2     AMADOR          4     10.56         11     29.48          1      2.74   \n3      BUTTE         32     14.55         16      7.26          3      1.36   \n4  CALAVERAS          9     19.80          5     11.08          0      0.00   \n\n   Cases2013  Rate2013  Cases2014  Rate2014  2011_diff  2011_sgn  2012_diff  \\\n0        124      8.55        354     24.41     -15.62      -1.0     -10.24   \n1          0      0.00          0      0.00       0.00      -1.0       0.00   \n2          2      5.52          1      2.76      18.92       1.0     -26.74   \n3         33     14.87         30     13.52      -7.29      -1.0      -5.90   \n4          2      4.39         17     37.35      -8.72      -1.0     -11.08   \n\n   2012_sgn  2013_diff  2013_sgn  2014_diff  2014_sgn  Cases  \\\n0      -1.0       4.20       1.0      15.86       1.0     10   \n1      -1.0       0.00      -1.0       0.00      -1.0      0   \n2      -1.0       2.78      -1.0      -2.76      -1.0      0   \n3      -1.0      13.51       1.0      -1.35      -1.0      6   \n4      -1.0       4.39       1.0      32.96       1.0      0   \n\n   Hospitalizations  Deaths  Case_Rate  \n0                 3       0        1.0  \n1                 0       0        0.0  \n2                 0       0        0.0  \n3                 5       0        5.1  \n4                 0       0        0.0  \n"
     ]
    }
   ],
   "source": [
    "# Display part of the data to see what's up\n",
    "show_more_cols_head(concat)"
   ]
  },
  {
   "cell_type": "code",
   "execution_count": 108,
   "metadata": {
    "scrolled": true,
    "collapsed": false
   },
   "outputs": [
    {
     "name": "stdout",
     "output_type": "stream",
     "text": [
      "[[  0.  12.]\n [  0.  46.]]\n0.793103448276\n"
     ]
    }
   ],
   "source": [
    "# Gather X and Y data\n",
    "# For now, X holds the difference in rates from 2011-2012 and 2012-2013\n",
    "# We need to grab the stuff as a matrix\n",
    "X = concat[['Cases2012', 'Rate2012', 'Cases2013', 'Rate2013']].as_matrix()\n",
    "# Y is predicting whether there was an outbreak in the number of pertussis cases\n",
    "y = np.ravel(concat['2014_sgn'].as_matrix()[np.newaxis].T)\n",
    "\n",
    "# printX\n",
    "\n",
    "# Create SVM model\n",
    "svm_model = sklearn.svm.SVC(kernel='rbf')\n",
    "\n",
    "# Choose number of folds for kfolds:\n",
    "n_fld = 3\n",
    "kf = sklearn.model_selection.KFold(n_fld)\n",
    "sklearn.model_selection.KFold(n_fld, random_state=None, shuffle=False)\n",
    "\n",
    "\n",
    "cf = np.zeros([2, 2])\n",
    "# # Confusion matrix stuff\n",
    "for train_index, test_index in kf.split(X):\n",
    "    # For each fold, split  X and y into training and testing sets\n",
    "    X_train, X_test = X[train_index], X[test_index]\n",
    "    y_train, y_test = y[train_index], y[test_index]\n",
    "    # Try fitting the SVM model on the data\n",
    "    svm_model.fit(X_train, y_train)\n",
    "    # Predict using the test data, and compare to the actual values\n",
    "    y_pred = svm_model.predict(X_test)\n",
    "    cf = cf + sklearn.metrics.confusion_matrix(y_test, y_pred)\n",
    "\n",
    "\n",
    "print cf\n",
    "\n",
    "# Compute accuracy\n",
    "acc = cf.trace()/cf.sum()\n",
    "print acc"
   ]
  },
  {
   "cell_type": "code",
   "execution_count": 109,
   "metadata": {},
   "outputs": [],
   "source": []
  }
 ],
 "metadata": {
  "kernelspec": {
   "display_name": "Python 2",
   "language": "python",
   "name": "python2"
  },
  "language_info": {
   "codemirror_mode": {
    "name": "ipython",
    "version": 2
   },
   "file_extension": ".py",
   "mimetype": "text/x-python",
   "name": "python",
   "nbconvert_exporter": "python",
   "pygments_lexer": "ipython2",
   "version": "2.7.13"
  }
 },
 "nbformat": 4,
 "nbformat_minor": 2
}
